{
 "cells": [
  {
   "cell_type": "code",
   "execution_count": null,
   "id": "4dec6984-3df1-4064-986c-d3dbb04f3d5b",
   "metadata": {},
   "outputs": [],
   "source": []
  },
  {
   "cell_type": "code",
   "execution_count": 1,
   "id": "4e8a5060-921e-47a5-852b-db976983ab8d",
   "metadata": {},
   "outputs": [],
   "source": [
    "txt = 'data/magicshopneha.txt'\n",
    "\n",
    "with open(txt, 'r') as f:\n",
    "    content = f.read()\n"
   ]
  },
  {
   "cell_type": "code",
   "execution_count": 2,
   "id": "31b6d8a7-a0d3-47cc-a951-5b8225a66f0b",
   "metadata": {},
   "outputs": [
    {
     "data": {
      "text/plain": [
       "str"
      ]
     },
     "execution_count": 2,
     "metadata": {},
     "output_type": "execute_result"
    }
   ],
   "source": [
    "type(content)"
   ]
  },
  {
   "cell_type": "code",
   "execution_count": 3,
   "id": "4035aa5c-0a95-4dce-932a-4c9dc29a4aea",
   "metadata": {},
   "outputs": [],
   "source": [
    "content = content.lower()"
   ]
  },
  {
   "cell_type": "code",
   "execution_count": 4,
   "id": "9ef51326-e037-447d-bff9-14d1c4de920e",
   "metadata": {},
   "outputs": [
    {
     "data": {
      "text/plain": [
       "-1"
      ]
     },
     "execution_count": 4,
     "metadata": {},
     "output_type": "execute_result"
    }
   ],
   "source": [
    "content.find('\\n')"
   ]
  },
  {
   "cell_type": "code",
   "execution_count": 5,
   "id": "23c7ab81-e11e-4ad8-ba34-f1c35bb816c9",
   "metadata": {},
   "outputs": [],
   "source": [
    "content = content.replace('\\n', ' ')"
   ]
  },
  {
   "cell_type": "code",
   "execution_count": 6,
   "id": "fcb1d5a6-adfd-4609-910b-992410972c63",
   "metadata": {},
   "outputs": [],
   "source": [
    "content = content.replace('!', '.')"
   ]
  },
  {
   "cell_type": "code",
   "execution_count": 7,
   "id": "9fc31145-5b81-4c10-8cb0-774a73ea0387",
   "metadata": {},
   "outputs": [],
   "source": [
    "content = content.replace(',', '')"
   ]
  },
  {
   "cell_type": "code",
   "execution_count": 8,
   "id": "152a25a8-91f1-49b4-9763-303ce32642a7",
   "metadata": {},
   "outputs": [],
   "source": [
    "#content = content.replace(';', '')"
   ]
  },
  {
   "cell_type": "code",
   "execution_count": 9,
   "id": "634233dc-517f-4e98-8066-e1dd62ee3d0c",
   "metadata": {},
   "outputs": [],
   "source": [
    "content = content.replace('\"', '')\n",
    "content = content.replace(\"'\", '')\n",
    "content = content.replace('?', '.')\n",
    "content = content.replace(';', '.')"
   ]
  },
  {
   "cell_type": "code",
   "execution_count": 75,
   "id": "5750a610-5af3-4ed5-a9b5-c020439575c1",
   "metadata": {},
   "outputs": [],
   "source": [
    "# content = content.replace('\\', '')"
   ]
  },
  {
   "cell_type": "code",
   "execution_count": 10,
   "id": "2f944032-9851-466b-8988-e8b170b388e5",
   "metadata": {},
   "outputs": [
    {
     "data": {
      "text/plain": [
       "str"
      ]
     },
     "execution_count": 10,
     "metadata": {},
     "output_type": "execute_result"
    }
   ],
   "source": [
    "type(content)"
   ]
  },
  {
   "cell_type": "code",
   "execution_count": 11,
   "id": "2234da1e-0b56-4341-80bc-10231acee5dc",
   "metadata": {},
   "outputs": [],
   "source": [
    "txt = 'magicshopneha.txt'\n",
    "\n",
    "with open(txt, 'w') as f:\n",
    "    f.write(content)\n"
   ]
  },
  {
   "cell_type": "code",
   "execution_count": 13,
   "id": "e7644d48-65ba-4069-9ce4-9e0d0b695c0c",
   "metadata": {},
   "outputs": [
    {
     "name": "stderr",
     "output_type": "stream",
     "text": [
      "OMP: Info #276: omp_set_nested routine deprecated, please use omp_set_max_active_levels instead.\n"
     ]
    },
    {
     "data": {
      "text/plain": [
       "16000"
      ]
     },
     "execution_count": 13,
     "metadata": {},
     "output_type": "execute_result"
    }
   ],
   "source": [
    "import librosa\n",
    "\n",
    "wav = 'data/magicshopneha.wav'\n",
    "\n",
    "aud, sr = librosa.load(wav, sr=16000)\n",
    "sr"
   ]
  },
  {
   "cell_type": "code",
   "execution_count": 17,
   "id": "766becc0-dcff-41b4-baa3-f684bab25030",
   "metadata": {},
   "outputs": [],
   "source": [
    "aud = librosa.to_mono(aud)\n",
    "\n",
    "import soundfile as sf\n",
    "\n",
    "sf.write(wav, aud, sr)\n"
   ]
  },
  {
   "cell_type": "code",
   "execution_count": 9,
   "id": "4f771c9d-5944-48e3-8a7f-37f52445e165",
   "metadata": {},
   "outputs": [],
   "source": [
    "#----------------------------------------------#\n",
    "\n",
    "txt = '../create_dataset/data/magicshopneha.txt'\n",
    "wav = '../create_dataset/data/magicshopneha.wav'\n",
    "\n",
    "import librosa\n",
    "import soundfile as sf\n"
   ]
  },
  {
   "cell_type": "code",
   "execution_count": 10,
   "id": "89be4a96-11a8-418b-b93b-9ddbe9d4720b",
   "metadata": {},
   "outputs": [],
   "source": [
    "with open(txt, 'r') as f:\n",
    "    content = f.read()\n",
    "       \n",
    "import re\n",
    "    \n",
    "sentences = re.split('\\; |\\?|\\. ', content)"
   ]
  },
  {
   "cell_type": "code",
   "execution_count": 11,
   "id": "70660edb-83d5-481c-b85a-1a4df16ba902",
   "metadata": {},
   "outputs": [
    {
     "data": {
      "text/plain": [
       "['always over the way and a little inaccessible it had been with something of the mirage in its position',\n",
       " \"but here it was now quite indisputably and the fat end of gip's pointing finger made a noise upon the glass\",\n",
       " \"if i was rich said gip dabbing a finger at the disappearing egg i'd buy myself that\"]"
      ]
     },
     "execution_count": 11,
     "metadata": {},
     "output_type": "execute_result"
    }
   ],
   "source": [
    "sentences[:3]"
   ]
  },
  {
   "cell_type": "code",
   "execution_count": 1,
   "id": "e09e9b86-809c-4aa0-b27a-d1d96f991c67",
   "metadata": {},
   "outputs": [
    {
     "data": {
      "text/plain": [
       "str"
      ]
     },
     "execution_count": 1,
     "metadata": {},
     "output_type": "execute_result"
    }
   ],
   "source": [
    "tg = '/ssd_scratch/cvit/neha/magicneha/magicshopneha.TextGrid'\n",
    "\n",
    "with open(tg, 'r') as f:\n",
    "    tg_content = f.read()\n",
    "    \n",
    "type(tg_content)"
   ]
  },
  {
   "cell_type": "code",
   "execution_count": 2,
   "id": "b8807624-eb5e-4a1b-a9cc-22185341ddec",
   "metadata": {},
   "outputs": [],
   "source": [
    "import tgt\n",
    "\n",
    "textgrid = tgt.io.read_textgrid(tg)\n",
    "# text = \"{\" + \" \".join(word) + \"}\"\n",
    "        "
   ]
  },
  {
   "cell_type": "code",
   "execution_count": 3,
   "id": "2c1308ea-27e4-4868-a626-af4f95d29095",
   "metadata": {},
   "outputs": [
    {
     "data": {
      "text/plain": [
       "([0.96, 1.43, 1.73], [1.43, 1.73, 1.86], ['always', 'over', 'the'])"
      ]
     },
     "execution_count": 3,
     "metadata": {},
     "output_type": "execute_result"
    }
   ],
   "source": [
    "\n",
    "tgo = textgrid.get_tier_by_name(\"words\")\n",
    "s,e,p = [],[],[]\n",
    "for t in tgo._objects:\n",
    "    s.append(t.start_time) \n",
    "    e.append(t.end_time)\n",
    "    p.append(t.text)\n",
    "s[:3], e[:3], p[:3]"
   ]
  },
  {
   "cell_type": "code",
   "execution_count": 13,
   "id": "b8b0f338-7893-4c9f-a92f-7b1c17261ae8",
   "metadata": {},
   "outputs": [
    {
     "data": {
      "text/plain": [
       "['always',\n",
       " 'over',\n",
       " 'the',\n",
       " 'way',\n",
       " 'and',\n",
       " 'a',\n",
       " 'little',\n",
       " 'inaccessible',\n",
       " 'it',\n",
       " 'had']"
      ]
     },
     "execution_count": 13,
     "metadata": {},
     "output_type": "execute_result"
    }
   ],
   "source": [
    "p[0:10]"
   ]
  },
  {
   "cell_type": "code",
   "execution_count": 8,
   "id": "e8c14960-7e42-4cf3-a48f-3e6495fae358",
   "metadata": {},
   "outputs": [],
   "source": [
    "aud, sr = librosa.load(wav, sr=22050)#     16000)\n",
    "\n",
    "path = '/ssd_scratch/cvit/neha/magicneha/auds/'"
   ]
  },
  {
   "cell_type": "code",
   "execution_count": 34,
   "id": "ae47f362-74ad-4282-943e-943e535c1590",
   "metadata": {
    "tags": []
   },
   "outputs": [
    {
     "name": "stdout",
     "output_type": "stream",
     "text": [
      "e idx and e len 18 1419\n",
      "e idx and e len 40 1419\n",
      "e idx and e len 57 1419\n",
      "e idx and e len 85 1419\n",
      "e idx and e len 95 1419\n",
      "e idx and e len 103 1419\n",
      "e idx and e len 124 1419\n",
      "e idx and e len 145 1419\n",
      "e idx and e len 161 1419\n",
      "e idx and e len 170 1419\n",
      "e idx and e len 174 1419\n",
      "e idx and e len 176 1419\n",
      "e idx and e len 187 1419\n",
      "e idx and e len 200 1419\n",
      "e idx and e len 219 1419\n",
      "e idx and e len 237 1419\n",
      "e idx and e len 243 1419\n",
      "e idx and e len 265 1419\n",
      "e idx and e len 274 1419\n",
      "e idx and e len 299 1419\n",
      "e idx and e len 312 1419\n",
      "e idx and e len 339 1419\n",
      "e idx and e len 368 1419\n",
      "e idx and e len 374 1419\n",
      "e idx and e len 402 1419\n",
      "e idx and e len 416 1419\n",
      "e idx and e len 446 1419\n",
      "e idx and e len 452 1419\n",
      "e idx and e len 463 1419\n",
      "e idx and e len 473 1419\n",
      "e idx and e len 486 1419\n",
      "e idx and e len 487 1419\n",
      "e idx and e len 489 1419\n",
      "e idx and e len 490 1419\n",
      "e idx and e len 491 1419\n",
      "e idx and e len 493 1419\n",
      "e idx and e len 495 1419\n",
      "e idx and e len 509 1419\n",
      "e idx and e len 520 1419\n",
      "e idx and e len 524 1419\n",
      "e idx and e len 530 1419\n",
      "e idx and e len 534 1419\n",
      "e idx and e len 560 1419\n",
      "e idx and e len 567 1419\n",
      "e idx and e len 569 1419\n",
      "e idx and e len 572 1419\n",
      "e idx and e len 588 1419\n",
      "e idx and e len 604 1419\n",
      "e idx and e len 606 1419\n",
      "e idx and e len 617 1419\n",
      "e idx and e len 631 1419\n",
      "e idx and e len 649 1419\n",
      "e idx and e len 678 1419\n",
      "e idx and e len 695 1419\n",
      "e idx and e len 725 1419\n",
      "e idx and e len 737 1419\n",
      "e idx and e len 749 1419\n",
      "e idx and e len 758 1419\n",
      "e idx and e len 762 1419\n",
      "e idx and e len 768 1419\n",
      "e idx and e len 774 1419\n",
      "e idx and e len 781 1419\n",
      "e idx and e len 801 1419\n",
      "e idx and e len 822 1419\n",
      "e idx and e len 834 1419\n",
      "e idx and e len 846 1419\n",
      "e idx and e len 863 1419\n",
      "e idx and e len 875 1419\n",
      "e idx and e len 885 1419\n",
      "e idx and e len 894 1419\n",
      "e idx and e len 916 1419\n",
      "e idx and e len 929 1419\n",
      "e idx and e len 940 1419\n",
      "e idx and e len 963 1419\n",
      "e idx and e len 977 1419\n",
      "e idx and e len 990 1419\n",
      "e idx and e len 995 1419\n",
      "e idx and e len 1000 1419\n",
      "e idx and e len 1048 1419\n",
      "e idx and e len 1072 1419\n",
      "e idx and e len 1077 1419\n",
      "e idx and e len 1084 1419\n",
      "e idx and e len 1114 1419\n",
      "FAIL\n",
      "idx x: 1115\n",
      "you were saying he said addressing himself to gip before you came in that you would like one of our buy one and astonish your friends boxes\n",
      " you were saying he said addressing himself to gip before you came in that you would like one of our buy one and astonish yourfriendsboxes gip after\n",
      "e idx and e len 1146 1419\n",
      "e idx and e len 1150 1419\n",
      "e idx and e len 1173 1419\n",
      "e idx and e len 1188 1419\n",
      "e idx and e len 1223 1419\n",
      "FAIL\n",
      "idx x: 1224\n",
      "and then he lit a candle at the nose of one of the ventriloquists dummies stuck one of his fingers (which had become sealing−wax red) into the flame and so sealed the parcel\n",
      " and then he lit a candle at the nose of one of the ventriloquists dummies stuck one of his fingers (which_had_become_sealing−wax_red) into the flame and so sealed the parcel then there was the\n",
      "FAIL\n",
      "idx x: 1257\n",
      "then there was the disappearing egg he remarked and produced one from within my coat−breast and packed it and also the crying baby very human\n",
      " disappearing egg he remarked and produced one from within my coat−breast and packed it and also the crying baby very human i handed each parcel\n",
      "FAIL\n",
      "idx x: 1282\n",
      "i handed each parcel to gip as it was ready and he clasped them to his chest\n",
      " to gip as it was ready and he clasped them to his chest he said very little\n",
      "FAIL\n",
      "idx x: 1299\n",
      "he said very little but his eyes were eloquent\n",
      " but his eyes were eloquent the clutch of his\n",
      "FAIL\n",
      "idx x: 1308\n",
      "the clutch of his arms was eloquent\n",
      " arms was eloquent he was the playground\n",
      "FAIL\n",
      "idx x: 1315\n",
      "he was the playground of unspeakable emotions\n",
      " of unspeakable emotions these you know were\n",
      "FAIL\n",
      "idx x: 1322\n",
      "these you know were real magics\n",
      " real magics then with a start\n",
      "FAIL\n",
      "idx x: 1328\n",
      "then with a start i discovered something moving about in my hat something soft and jumpy\n",
      " i discovered something moving about in my hat something soft and jumpy i whipped it off\n",
      "FAIL\n",
      "idx x: 1344\n",
      "i whipped it off and a ruffled pigeon no doubt a confederate dropped out and ran on the counter and went i fancy into a cardboard box behind the papier−mache tiger\n",
      " and a ruffled pigeon no doubt a confederate dropped out and ran on the counter and went i fancy into a cardboard box behind the papier−mache tiger tut tut said the\n",
      "FAIL\n",
      "idx x: 1375\n",
      "tut tut said the shopman dexterously relieving me of my headdress\n",
      " shopman dexterously relieving me of my headdress careless bird and as\n",
      "FAIL\n",
      "idx x: 1386\n",
      "careless bird and as i live nesting  he shook my hat and shook out into his extended hand two or three eggs a large marble a watch about half−a−dozen of the inevitable glass balls and then crumpled \n",
      " i live nesting he shook my hat and shook out into his extended hand two or three eggs a large marble a watch about half−a−dozen of the inevitable glass balls and then crumpled\n"
     ]
    }
   ],
   "source": [
    "def get_sent(wrds):\n",
    "    s_tg = ''\n",
    "    for w in wrds:   \n",
    "        if w==\"'s\":\n",
    "            s_tg = s_tg + w.replace(\"'\",\"\") + ' '\n",
    "        else: \n",
    "            s_tg = s_tg + ' ' + w.replace(\"'\",\"\") \n",
    "            \n",
    "    return s_tg\n",
    "\n",
    "x=0\n",
    "fail=0\n",
    "for i, sent in enumerate(sentences):\n",
    "    \n",
    "    sent = sent.replace(\"'\", \"\")\n",
    "    \n",
    "    ws = sent.split()\n",
    "    # print('sent',sent)\n",
    "    \n",
    "    l = len(ws)\n",
    "    # print('l:', l)\n",
    "    \n",
    "    \n",
    "    # print('*'*15)\n",
    "    # print(sent)\n",
    "    # print(get_sent(p[x:x+l+1]))\n",
    "    # print(get_sent(p[x:x+l-1]))\n",
    "    # print('*'*15)\n",
    "    \n",
    "    if sent == '':\n",
    "        print('sent is empty', sent)\n",
    "        continue\n",
    "    \n",
    "    \n",
    "    if ws == get_sent(p[x:x+l+1]).split():\n",
    "        l=l+1\n",
    "        # print('l+:', l)\n",
    "    elif ws == get_sent(p[x:x+l-1]).split():\n",
    "        l=l-1\n",
    "        print('l-:', l)\n",
    "    elif ws == get_sent(p[x-2:x+l-2]).split(): # special case here\n",
    "        # if x == 1301:\n",
    "        #     print('-'*10)\n",
    "        #     print(ws)\n",
    "        #     print(get_sent(p[x-2:x+l-2]).split())\n",
    "        # l=l-2\n",
    "        x=x-2\n",
    "        # print('l-2:', l)\n",
    "    # elif ws == get_sent(p[x:x+l-2]).split(): # special case here\n",
    "    #     l=l-2        \n",
    "    # elif ws == get_sent(p[x-4:x+l-4]).split(): # special case here\n",
    "    #     x=x-4\n",
    "    # elif ws == get_sent(p[x+1:x+l+1]).split(): # special case here\n",
    "    #     x=x+1\n",
    "    \n",
    "    \n",
    "    w_tg = p[x:x+l]\n",
    "    s_tg = get_sent(w_tg)\n",
    "    # print('stg',s_tg)\n",
    "    if ws == s_tg.split():\n",
    "        st = s[x]\n",
    "        # print('e idx and e len', x+l-1, len(e))\n",
    "        et = e[x+l-1]\n",
    "        \n",
    "        # print('et, st',et,' ', st)\n",
    "        \n",
    "        if et-st>0.2:\n",
    "            au_seg = aud[int(st*sr):int(et*sr)]\n",
    "            sf.write(path+'aud'+str(i)+'.wav', au_seg, sr)\n",
    "        \n",
    "            with open(path+'aud'+str(i)+'.lab', 'w') as f:\n",
    "                f.write(sent)  \n",
    "        \n",
    "        # print('num sents:',i)\n",
    "                \n",
    "    else:\n",
    "        fail+=1\n",
    "        print('FAIL')\n",
    "        print('idx x:', x)\n",
    "        print(sent)\n",
    "        print(s_tg)\n",
    "    x = x + l\n",
    "        \n"
   ]
  },
  {
   "cell_type": "code",
   "execution_count": 32,
   "id": "83c99a0b-d513-48bd-93d3-0112331ee679",
   "metadata": {},
   "outputs": [
    {
     "data": {
      "text/plain": [
       "(99, 12)"
      ]
     },
     "execution_count": 32,
     "metadata": {},
     "output_type": "execute_result"
    }
   ],
   "source": [
    "i, fail"
   ]
  },
  {
   "cell_type": "code",
   "execution_count": null,
   "id": "6e83ed66-6c25-4e74-8e60-96cb8d9f75b6",
   "metadata": {},
   "outputs": [],
   "source": [
    "#------------------------------------------------\n",
    "#get len of aud\n",
    "#------------------------------------------------"
   ]
  },
  {
   "cell_type": "code",
   "execution_count": 20,
   "id": "0c6e59da-c161-4eac-bff5-8d8648df44ac",
   "metadata": {},
   "outputs": [
    {
     "name": "stdout",
     "output_type": "stream",
     "text": [
      "60\n"
     ]
    },
    {
     "data": {
      "text/plain": [
       "22050"
      ]
     },
     "execution_count": 20,
     "metadata": {},
     "output_type": "execute_result"
    }
   ],
   "source": [
    "import os\n",
    "import soundfile as sf\n",
    "import IPython.display as ipd\n",
    "\n",
    "i=1\n",
    "aud=[]\n",
    "folder = '/ssd_scratch/cvit/neha/auds'\n",
    "\n",
    "for f in os.listdir(folder):\n",
    "    if f[-3:]=='wav':\n",
    "        a, s = sf.read(os.path.join(folder, f))\n",
    "        aud.extend(a)\n",
    "        i+=1\n",
    "        if i == 60 :\n",
    "            break\n",
    "        \n",
    "print(i)\n",
    "s"
   ]
  },
  {
   "cell_type": "code",
   "execution_count": 21,
   "id": "40b74675-01b6-4d0e-9ac1-58de68219d2c",
   "metadata": {},
   "outputs": [
    {
     "data": {
      "text/plain": [
       "5.116163265306123"
      ]
     },
     "execution_count": 21,
     "metadata": {},
     "output_type": "execute_result"
    }
   ],
   "source": [
    "(len(aud)/s)/60"
   ]
  },
  {
   "cell_type": "code",
   "execution_count": null,
   "id": "0699eeb7-9953-4b82-89da-8f611ba554ef",
   "metadata": {},
   "outputs": [],
   "source": [
    "#------------------------------------------------\n",
    "#edit train text\n",
    "#------------------------------------------------"
   ]
  },
  {
   "cell_type": "code",
   "execution_count": 33,
   "id": "46310a31-2728-4e98-af5c-13767311fcbc",
   "metadata": {},
   "outputs": [
    {
     "data": {
      "text/plain": [
       "60"
      ]
     },
     "execution_count": 33,
     "metadata": {},
     "output_type": "execute_result"
    }
   ],
   "source": [
    "file = '/ssd_scratch/cvit/neha/prepr_magicshop/train.txt'\n",
    "\n",
    "with open(file, 'r') as f:\n",
    "    t = f.readlines()\n",
    "    \n",
    "len(t)"
   ]
  },
  {
   "cell_type": "code",
   "execution_count": 32,
   "id": "3e3d71d4-b6de-4352-aa01-e5276364575d",
   "metadata": {},
   "outputs": [],
   "source": [
    "new_text = []\n",
    "\n",
    "for l in t:\n",
    "    if int(l.split('|')[0][3:])<60:\n",
    "        new_text.append(l)\n",
    "        \n",
    "with open(file, 'w') as f:\n",
    "    t = f.writelines(new_text) "
   ]
  },
  {
   "cell_type": "code",
   "execution_count": 30,
   "id": "1ee7e072-cba4-4d1d-86eb-fbe7db52bd68",
   "metadata": {},
   "outputs": [
    {
     "data": {
      "text/plain": [
       "list"
      ]
     },
     "execution_count": 30,
     "metadata": {},
     "output_type": "execute_result"
    }
   ],
   "source": [
    "type(t)"
   ]
  }
 ],
 "metadata": {
  "kernelspec": {
   "display_name": "Python 3 (ipykernel)",
   "language": "python",
   "name": "python3"
  },
  "language_info": {
   "codemirror_mode": {
    "name": "ipython",
    "version": 3
   },
   "file_extension": ".py",
   "mimetype": "text/x-python",
   "name": "python",
   "nbconvert_exporter": "python",
   "pygments_lexer": "ipython3",
   "version": "3.9.13"
  }
 },
 "nbformat": 4,
 "nbformat_minor": 5
}
